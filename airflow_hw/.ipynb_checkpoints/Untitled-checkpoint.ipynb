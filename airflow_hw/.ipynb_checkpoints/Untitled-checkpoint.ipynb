{
 "cells": [
  {
   "cell_type": "code",
   "execution_count": 1,
   "id": "bc1ce3f6-bb3e-434c-b04a-99308a9b3fff",
   "metadata": {},
   "outputs": [],
   "source": [
    "import dill\n",
    "import glob\n",
    "import pandas as pd"
   ]
  },
  {
   "cell_type": "code",
   "execution_count": 3,
   "id": "b985c1f3-c708-4819-95de-d219b9ccda2d",
   "metadata": {},
   "outputs": [],
   "source": [
    "with open('C:/Users/korne/airflow_hw/data/models/cars_pipe_202411111826.pkl','rb') as file:\n",
    "    model = dill.load(file)\n",
    "    "
   ]
  },
  {
   "cell_type": "code",
   "execution_count": 51,
   "id": "48bee8d1-e694-4675-8443-2b7f30ac4488",
   "metadata": {},
   "outputs": [],
   "source": [
    "with open('C:/Users/korne/airflow_hw/data/test/7310993818.json', 'r') as j:\n",
    "    contents = json.load(j)\n",
    " "
   ]
  },
  {
   "cell_type": "code",
   "execution_count": 53,
   "id": "872388cd-13e7-4e69-ae2a-33fbf28fe346",
   "metadata": {},
   "outputs": [],
   "source": [
    "df = pd.DataFrame(contents, index=[0])"
   ]
  },
  {
   "cell_type": "code",
   "execution_count": 57,
   "id": "b033a86a-96f6-477f-acab-c321427423f9",
   "metadata": {},
   "outputs": [
    {
     "name": "stdout",
     "output_type": "stream",
     "text": [
      "['low']\n"
     ]
    }
   ],
   "source": [
    "print(model.predict(df))"
   ]
  },
  {
   "cell_type": "code",
   "execution_count": null,
   "id": "647332c8-2a80-4bec-98f3-307bbbccd0b2",
   "metadata": {},
   "outputs": [],
   "source": []
  },
  {
   "cell_type": "code",
   "execution_count": 73,
   "id": "abca3813-d346-44ef-9f4d-44ee56f6e571",
   "metadata": {},
   "outputs": [
    {
     "name": "stdout",
     "output_type": "stream",
     "text": [
      "C:/Users/korne/airflow_hw/data/test\\7310993818.json ['low']\n",
      "C:/Users/korne/airflow_hw/data/test\\7313922964.json ['high']\n",
      "C:/Users/korne/airflow_hw/data/test\\7315173150.json ['low']\n",
      "C:/Users/korne/airflow_hw/data/test\\7316152972.json ['medium']\n",
      "C:/Users/korne/airflow_hw/data/test\\7316509996.json ['high']\n"
     ]
    }
   ],
   "source": [
    "for t_file in glob.glob('C:/Users/korne/airflow_hw/data/test/*.json', recursive=True):\n",
    "    with open(t_file, 'r') as j:\n",
    "        contents = json.load(j)\n",
    "    df = pd.DataFrame(contents, index = [0])\n",
    "    preds = model.predict(df)\n",
    "    print(t_file, preds)\n"
   ]
  },
  {
   "cell_type": "code",
   "execution_count": null,
   "id": "09d797ff-354c-4bf1-889d-2430b56b0e56",
   "metadata": {},
   "outputs": [],
   "source": []
  },
  {
   "cell_type": "code",
   "execution_count": 107,
   "id": "e2154941-2937-4d6b-8d2b-fd21ec8566b7",
   "metadata": {},
   "outputs": [
    {
     "data": {
      "text/plain": [
       "[{1: 2}]"
      ]
     },
     "execution_count": 107,
     "metadata": {},
     "output_type": "execute_result"
    }
   ],
   "source": [
    "data = []\n",
    "data.append({1:2})\n",
    "data"
   ]
  },
  {
   "cell_type": "code",
   "execution_count": 141,
   "id": "3114a964-1827-45f8-98f2-80dd7fcf3e34",
   "metadata": {},
   "outputs": [],
   "source": [
    "data_list = list()\n",
    "for test_file in glob.glob('C:/Users/korne/airflow_hw/data/test/*.json', recursive=True):\n",
    "    \n",
    "    with open(test_file, 'r') as j:\n",
    "        test_json = json.load(j)\n",
    "    df_test = pd.DataFrame(test_json, index = [0])\n",
    "    preds = model.predict(df_test)\n",
    "    \n",
    "    data = {'test': test_file[36:46], 'preds': preds[0]}\n",
    "    data_list.append(data)\n",
    "\n",
    "    \n",
    "df_preds = pd.DataFrame(data_list)\n",
    "df_preds.to_csv('preds.csv')"
   ]
  }
 ],
 "metadata": {
  "kernelspec": {
   "display_name": "Python 3 (ipykernel)",
   "language": "python",
   "name": "python3"
  },
  "language_info": {
   "codemirror_mode": {
    "name": "ipython",
    "version": 3
   },
   "file_extension": ".py",
   "mimetype": "text/x-python",
   "name": "python",
   "nbconvert_exporter": "python",
   "pygments_lexer": "ipython3",
   "version": "3.12.4"
  }
 },
 "nbformat": 4,
 "nbformat_minor": 5
}
